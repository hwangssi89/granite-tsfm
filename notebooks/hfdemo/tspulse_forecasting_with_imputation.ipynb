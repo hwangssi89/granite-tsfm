{
 "cells": [
  {
   "cell_type": "markdown",
   "id": "3f702308-f896-47dd-a4ea-d7c1d9fef0da",
   "metadata": {},
   "source": [
    "## Imports"
   ]
  },
  {
   "cell_type": "code",
   "execution_count": 1,
   "id": "01f70f3e",
   "metadata": {},
   "outputs": [],
   "source": [
    "import matplotlib.pyplot as plt\n",
    "import numpy as np\n",
    "import pandas as pd\n",
    "import torch\n",
    "from ipywidgets import IntSlider, interact\n",
    "from transformers import set_seed"
   ]
  },
  {
   "cell_type": "code",
   "execution_count": 2,
   "id": "1b9cded8",
   "metadata": {},
   "outputs": [],
   "source": [
    "from tsfm_public import TimeSeriesPreprocessor\n",
    "from tsfm_public.models.tspulse import TSPulseForReconstruction\n",
    "from tsfm_public.toolkit.time_series_imputation_pipeline import TimeSeriesImputationPipeline"
   ]
  },
  {
   "cell_type": "markdown",
   "id": "ceee14b4",
   "metadata": {},
   "source": [
    "## Preparing the Dataset"
   ]
  },
  {
   "cell_type": "code",
   "execution_count": 3,
   "id": "1c2a901f",
   "metadata": {},
   "outputs": [],
   "source": [
    "# Set seed for reproducibility\n",
    "SEED = 42\n",
    "set_seed(SEED)\n",
    "CONTEXT_LENGTH = 512\n",
    "PREDICTION_LENGTH = 0\n",
    "\n",
    "TARGET_DATASET = \"etth1\"\n",
    "dataset_path = \"https://raw.githubusercontent.com/zhouhaoyi/ETDataset/main/ETT-small/ETTh1.csv\""
   ]
  },
  {
   "cell_type": "code",
   "execution_count": 4,
   "id": "43071649",
   "metadata": {},
   "outputs": [
    {
     "name": "stdout",
     "output_type": "stream",
     "text": [
      "(17420, 8)\n",
      "                 date   HUFL   HULL   MUFL   MULL   LUFL   LULL         OT\n",
      "0 2016-07-01 00:00:00  5.827  2.009  1.599  0.462  4.203  1.340  30.531000\n",
      "1 2016-07-01 01:00:00  5.693  2.076  1.492  0.426  4.142  1.371  27.787001\n",
      "2 2016-07-01 02:00:00  5.157  1.741  1.279  0.355  3.777  1.218  27.787001\n",
      "3 2016-07-01 03:00:00  5.090  1.942  1.279  0.391  3.807  1.279  25.044001\n",
      "4 2016-07-01 04:00:00  5.358  1.942  1.492  0.462  3.868  1.279  21.948000\n"
     ]
    }
   ],
   "source": [
    "timestamp_column = \"date\"\n",
    "id_columns = []  # mention the ids that uniquely identify a time-series.\n",
    "target_columns = [\n",
    "    \"HUFL\",\n",
    "    \"HULL\",\n",
    "    \"MUFL\",\n",
    "    \"MULL\",\n",
    "    \"LUFL\",\n",
    "    \"LULL\",\n",
    "    \"OT\",\n",
    "]  # mention the target column names in the dataset that should be imputed by the model\n",
    "\n",
    "data = pd.read_csv(\n",
    "    dataset_path,\n",
    "    parse_dates=[timestamp_column],\n",
    ")\n",
    "\n",
    "fully_observed_ground_truth = data.copy()\n",
    "\n",
    "print(data.shape)\n",
    "print(data.head())\n",
    "\n",
    "column_specifiers = {\n",
    "    \"timestamp_column\": timestamp_column,\n",
    "    \"id_columns\": id_columns,\n",
    "    \"target_columns\": target_columns,\n",
    "    \"control_columns\": [],\n",
    "}"
   ]
  },
  {
   "cell_type": "markdown",
   "id": "1c657953-7493-409c-93f7-61fd87e4fee9",
   "metadata": {},
   "source": [
    "### Introducing NaN values at the end to mimic forecasting horizon"
   ]
  },
  {
   "cell_type": "code",
   "execution_count": 5,
   "id": "8cde6963",
   "metadata": {},
   "outputs": [],
   "source": [
    "def mask_last_context(df: pd.DataFrame, forecast_length: int) -> pd.DataFrame:\n",
    "    \"\"\"\n",
    "    Replaces the last `context_length` values in each column of the DataFrame with NaN.\n",
    "    \n",
    "    Args:\n",
    "        df (pd.DataFrame): Input DataFrame.\n",
    "        forecast_length (int): Number of values at the end of each column to mask as NaN.\n",
    "    \n",
    "    Returns:\n",
    "        pd.DataFrame: Modified DataFrame with NaNs at the end of each column.\n",
    "    \"\"\"\n",
    "    df_copy = df.copy()\n",
    "    if forecast_length > 0:\n",
    "        df_copy.iloc[-forecast_length:, :] = np.nan\n",
    "    return df_copy"
   ]
  },
  {
   "cell_type": "code",
   "execution_count": 6,
   "id": "c2051ab6-17ea-4b47-987f-27ef867b38cc",
   "metadata": {},
   "outputs": [],
   "source": [
    "FORECAST_LEN = 96"
   ]
  },
  {
   "cell_type": "code",
   "execution_count": 7,
   "id": "acfc78e5-2976-49cc-b7bb-439bc4974c3d",
   "metadata": {},
   "outputs": [
    {
     "data": {
      "text/html": [
       "<div>\n",
       "<style scoped>\n",
       "    .dataframe tbody tr th:only-of-type {\n",
       "        vertical-align: middle;\n",
       "    }\n",
       "\n",
       "    .dataframe tbody tr th {\n",
       "        vertical-align: top;\n",
       "    }\n",
       "\n",
       "    .dataframe thead th {\n",
       "        text-align: right;\n",
       "    }\n",
       "</style>\n",
       "<table border=\"1\" class=\"dataframe\">\n",
       "  <thead>\n",
       "    <tr style=\"text-align: right;\">\n",
       "      <th></th>\n",
       "      <th>date</th>\n",
       "      <th>HUFL</th>\n",
       "      <th>HULL</th>\n",
       "      <th>MUFL</th>\n",
       "      <th>MULL</th>\n",
       "      <th>LUFL</th>\n",
       "      <th>LULL</th>\n",
       "      <th>OT</th>\n",
       "    </tr>\n",
       "  </thead>\n",
       "  <tbody>\n",
       "    <tr>\n",
       "      <th>0</th>\n",
       "      <td>2016-07-01 00:00:00</td>\n",
       "      <td>5.827</td>\n",
       "      <td>2.009</td>\n",
       "      <td>1.599</td>\n",
       "      <td>0.462</td>\n",
       "      <td>4.203</td>\n",
       "      <td>1.340</td>\n",
       "      <td>30.531000</td>\n",
       "    </tr>\n",
       "    <tr>\n",
       "      <th>1</th>\n",
       "      <td>2016-07-01 01:00:00</td>\n",
       "      <td>5.693</td>\n",
       "      <td>2.076</td>\n",
       "      <td>1.492</td>\n",
       "      <td>0.426</td>\n",
       "      <td>4.142</td>\n",
       "      <td>1.371</td>\n",
       "      <td>27.787001</td>\n",
       "    </tr>\n",
       "    <tr>\n",
       "      <th>2</th>\n",
       "      <td>2016-07-01 02:00:00</td>\n",
       "      <td>5.157</td>\n",
       "      <td>1.741</td>\n",
       "      <td>1.279</td>\n",
       "      <td>0.355</td>\n",
       "      <td>3.777</td>\n",
       "      <td>1.218</td>\n",
       "      <td>27.787001</td>\n",
       "    </tr>\n",
       "    <tr>\n",
       "      <th>3</th>\n",
       "      <td>2016-07-01 03:00:00</td>\n",
       "      <td>5.090</td>\n",
       "      <td>1.942</td>\n",
       "      <td>1.279</td>\n",
       "      <td>0.391</td>\n",
       "      <td>3.807</td>\n",
       "      <td>1.279</td>\n",
       "      <td>25.044001</td>\n",
       "    </tr>\n",
       "    <tr>\n",
       "      <th>4</th>\n",
       "      <td>2016-07-01 04:00:00</td>\n",
       "      <td>5.358</td>\n",
       "      <td>1.942</td>\n",
       "      <td>1.492</td>\n",
       "      <td>0.462</td>\n",
       "      <td>3.868</td>\n",
       "      <td>1.279</td>\n",
       "      <td>21.948000</td>\n",
       "    </tr>\n",
       "    <tr>\n",
       "      <th>...</th>\n",
       "      <td>...</td>\n",
       "      <td>...</td>\n",
       "      <td>...</td>\n",
       "      <td>...</td>\n",
       "      <td>...</td>\n",
       "      <td>...</td>\n",
       "      <td>...</td>\n",
       "      <td>...</td>\n",
       "    </tr>\n",
       "    <tr>\n",
       "      <th>507</th>\n",
       "      <td>2016-07-22 03:00:00</td>\n",
       "      <td>15.271</td>\n",
       "      <td>5.291</td>\n",
       "      <td>9.772</td>\n",
       "      <td>2.452</td>\n",
       "      <td>4.813</td>\n",
       "      <td>1.401</td>\n",
       "      <td>35.666000</td>\n",
       "    </tr>\n",
       "    <tr>\n",
       "      <th>508</th>\n",
       "      <td>2016-07-22 04:00:00</td>\n",
       "      <td>12.525</td>\n",
       "      <td>3.684</td>\n",
       "      <td>7.782</td>\n",
       "      <td>1.990</td>\n",
       "      <td>4.630</td>\n",
       "      <td>1.371</td>\n",
       "      <td>35.525002</td>\n",
       "    </tr>\n",
       "    <tr>\n",
       "      <th>509</th>\n",
       "      <td>2016-07-22 05:00:00</td>\n",
       "      <td>13.329</td>\n",
       "      <td>4.421</td>\n",
       "      <td>8.315</td>\n",
       "      <td>2.025</td>\n",
       "      <td>4.873</td>\n",
       "      <td>1.401</td>\n",
       "      <td>36.862000</td>\n",
       "    </tr>\n",
       "    <tr>\n",
       "      <th>510</th>\n",
       "      <td>2016-07-22 06:00:00</td>\n",
       "      <td>12.860</td>\n",
       "      <td>4.488</td>\n",
       "      <td>8.102</td>\n",
       "      <td>2.097</td>\n",
       "      <td>4.904</td>\n",
       "      <td>1.492</td>\n",
       "      <td>35.033001</td>\n",
       "    </tr>\n",
       "    <tr>\n",
       "      <th>511</th>\n",
       "      <td>2016-07-22 07:00:00</td>\n",
       "      <td>12.324</td>\n",
       "      <td>4.019</td>\n",
       "      <td>7.427</td>\n",
       "      <td>2.487</td>\n",
       "      <td>4.904</td>\n",
       "      <td>1.767</td>\n",
       "      <td>38.620998</td>\n",
       "    </tr>\n",
       "  </tbody>\n",
       "</table>\n",
       "<p>512 rows × 8 columns</p>\n",
       "</div>"
      ],
      "text/plain": [
       "                   date    HUFL   HULL   MUFL   MULL   LUFL   LULL         OT\n",
       "0   2016-07-01 00:00:00   5.827  2.009  1.599  0.462  4.203  1.340  30.531000\n",
       "1   2016-07-01 01:00:00   5.693  2.076  1.492  0.426  4.142  1.371  27.787001\n",
       "2   2016-07-01 02:00:00   5.157  1.741  1.279  0.355  3.777  1.218  27.787001\n",
       "3   2016-07-01 03:00:00   5.090  1.942  1.279  0.391  3.807  1.279  25.044001\n",
       "4   2016-07-01 04:00:00   5.358  1.942  1.492  0.462  3.868  1.279  21.948000\n",
       "..                  ...     ...    ...    ...    ...    ...    ...        ...\n",
       "507 2016-07-22 03:00:00  15.271  5.291  9.772  2.452  4.813  1.401  35.666000\n",
       "508 2016-07-22 04:00:00  12.525  3.684  7.782  1.990  4.630  1.371  35.525002\n",
       "509 2016-07-22 05:00:00  13.329  4.421  8.315  2.025  4.873  1.401  36.862000\n",
       "510 2016-07-22 06:00:00  12.860  4.488  8.102  2.097  4.904  1.492  35.033001\n",
       "511 2016-07-22 07:00:00  12.324  4.019  7.427  2.487  4.904  1.767  38.620998\n",
       "\n",
       "[512 rows x 8 columns]"
      ]
     },
     "execution_count": 7,
     "metadata": {},
     "output_type": "execute_result"
    }
   ],
   "source": [
    "data = data.iloc[:512, :]\n",
    "data"
   ]
  },
  {
   "cell_type": "code",
   "execution_count": 8,
   "id": "e5f1e3a5-23f4-40a5-b204-7f45b890bb02",
   "metadata": {},
   "outputs": [
    {
     "data": {
      "text/html": [
       "<div>\n",
       "<style scoped>\n",
       "    .dataframe tbody tr th:only-of-type {\n",
       "        vertical-align: middle;\n",
       "    }\n",
       "\n",
       "    .dataframe tbody tr th {\n",
       "        vertical-align: top;\n",
       "    }\n",
       "\n",
       "    .dataframe thead th {\n",
       "        text-align: right;\n",
       "    }\n",
       "</style>\n",
       "<table border=\"1\" class=\"dataframe\">\n",
       "  <thead>\n",
       "    <tr style=\"text-align: right;\">\n",
       "      <th></th>\n",
       "      <th>date</th>\n",
       "      <th>HUFL</th>\n",
       "      <th>HULL</th>\n",
       "      <th>MUFL</th>\n",
       "      <th>MULL</th>\n",
       "      <th>LUFL</th>\n",
       "      <th>LULL</th>\n",
       "      <th>OT</th>\n",
       "    </tr>\n",
       "  </thead>\n",
       "  <tbody>\n",
       "    <tr>\n",
       "      <th>0</th>\n",
       "      <td>2016-07-01 00:00:00</td>\n",
       "      <td>5.827</td>\n",
       "      <td>2.009</td>\n",
       "      <td>1.599</td>\n",
       "      <td>0.462</td>\n",
       "      <td>4.203</td>\n",
       "      <td>1.340</td>\n",
       "      <td>30.531000</td>\n",
       "    </tr>\n",
       "    <tr>\n",
       "      <th>1</th>\n",
       "      <td>2016-07-01 01:00:00</td>\n",
       "      <td>5.693</td>\n",
       "      <td>2.076</td>\n",
       "      <td>1.492</td>\n",
       "      <td>0.426</td>\n",
       "      <td>4.142</td>\n",
       "      <td>1.371</td>\n",
       "      <td>27.787001</td>\n",
       "    </tr>\n",
       "    <tr>\n",
       "      <th>2</th>\n",
       "      <td>2016-07-01 02:00:00</td>\n",
       "      <td>5.157</td>\n",
       "      <td>1.741</td>\n",
       "      <td>1.279</td>\n",
       "      <td>0.355</td>\n",
       "      <td>3.777</td>\n",
       "      <td>1.218</td>\n",
       "      <td>27.787001</td>\n",
       "    </tr>\n",
       "    <tr>\n",
       "      <th>3</th>\n",
       "      <td>2016-07-01 03:00:00</td>\n",
       "      <td>5.090</td>\n",
       "      <td>1.942</td>\n",
       "      <td>1.279</td>\n",
       "      <td>0.391</td>\n",
       "      <td>3.807</td>\n",
       "      <td>1.279</td>\n",
       "      <td>25.044001</td>\n",
       "    </tr>\n",
       "    <tr>\n",
       "      <th>4</th>\n",
       "      <td>2016-07-01 04:00:00</td>\n",
       "      <td>5.358</td>\n",
       "      <td>1.942</td>\n",
       "      <td>1.492</td>\n",
       "      <td>0.462</td>\n",
       "      <td>3.868</td>\n",
       "      <td>1.279</td>\n",
       "      <td>21.948000</td>\n",
       "    </tr>\n",
       "    <tr>\n",
       "      <th>...</th>\n",
       "      <td>...</td>\n",
       "      <td>...</td>\n",
       "      <td>...</td>\n",
       "      <td>...</td>\n",
       "      <td>...</td>\n",
       "      <td>...</td>\n",
       "      <td>...</td>\n",
       "      <td>...</td>\n",
       "    </tr>\n",
       "    <tr>\n",
       "      <th>507</th>\n",
       "      <td>NaT</td>\n",
       "      <td>NaN</td>\n",
       "      <td>NaN</td>\n",
       "      <td>NaN</td>\n",
       "      <td>NaN</td>\n",
       "      <td>NaN</td>\n",
       "      <td>NaN</td>\n",
       "      <td>NaN</td>\n",
       "    </tr>\n",
       "    <tr>\n",
       "      <th>508</th>\n",
       "      <td>NaT</td>\n",
       "      <td>NaN</td>\n",
       "      <td>NaN</td>\n",
       "      <td>NaN</td>\n",
       "      <td>NaN</td>\n",
       "      <td>NaN</td>\n",
       "      <td>NaN</td>\n",
       "      <td>NaN</td>\n",
       "    </tr>\n",
       "    <tr>\n",
       "      <th>509</th>\n",
       "      <td>NaT</td>\n",
       "      <td>NaN</td>\n",
       "      <td>NaN</td>\n",
       "      <td>NaN</td>\n",
       "      <td>NaN</td>\n",
       "      <td>NaN</td>\n",
       "      <td>NaN</td>\n",
       "      <td>NaN</td>\n",
       "    </tr>\n",
       "    <tr>\n",
       "      <th>510</th>\n",
       "      <td>NaT</td>\n",
       "      <td>NaN</td>\n",
       "      <td>NaN</td>\n",
       "      <td>NaN</td>\n",
       "      <td>NaN</td>\n",
       "      <td>NaN</td>\n",
       "      <td>NaN</td>\n",
       "      <td>NaN</td>\n",
       "    </tr>\n",
       "    <tr>\n",
       "      <th>511</th>\n",
       "      <td>NaT</td>\n",
       "      <td>NaN</td>\n",
       "      <td>NaN</td>\n",
       "      <td>NaN</td>\n",
       "      <td>NaN</td>\n",
       "      <td>NaN</td>\n",
       "      <td>NaN</td>\n",
       "      <td>NaN</td>\n",
       "    </tr>\n",
       "  </tbody>\n",
       "</table>\n",
       "<p>512 rows × 8 columns</p>\n",
       "</div>"
      ],
      "text/plain": [
       "                   date   HUFL   HULL   MUFL   MULL   LUFL   LULL         OT\n",
       "0   2016-07-01 00:00:00  5.827  2.009  1.599  0.462  4.203  1.340  30.531000\n",
       "1   2016-07-01 01:00:00  5.693  2.076  1.492  0.426  4.142  1.371  27.787001\n",
       "2   2016-07-01 02:00:00  5.157  1.741  1.279  0.355  3.777  1.218  27.787001\n",
       "3   2016-07-01 03:00:00  5.090  1.942  1.279  0.391  3.807  1.279  25.044001\n",
       "4   2016-07-01 04:00:00  5.358  1.942  1.492  0.462  3.868  1.279  21.948000\n",
       "..                  ...    ...    ...    ...    ...    ...    ...        ...\n",
       "507                 NaT    NaN    NaN    NaN    NaN    NaN    NaN        NaN\n",
       "508                 NaT    NaN    NaN    NaN    NaN    NaN    NaN        NaN\n",
       "509                 NaT    NaN    NaN    NaN    NaN    NaN    NaN        NaN\n",
       "510                 NaT    NaN    NaN    NaN    NaN    NaN    NaN        NaN\n",
       "511                 NaT    NaN    NaN    NaN    NaN    NaN    NaN        NaN\n",
       "\n",
       "[512 rows x 8 columns]"
      ]
     },
     "execution_count": 8,
     "metadata": {},
     "output_type": "execute_result"
    }
   ],
   "source": [
    "data = mask_last_context(data, forecast_length=FORECAST_LEN)\n",
    "data"
   ]
  },
  {
   "cell_type": "markdown",
   "id": "7db6718d-9cef-4335-8bc1-1be49b4b0192",
   "metadata": {},
   "source": [
    "### Creating a tsp (To preprocess the input data and perform scaling (if needed))"
   ]
  },
  {
   "cell_type": "code",
   "execution_count": 9,
   "id": "62c0bfd5",
   "metadata": {},
   "outputs": [],
   "source": [
    "tsp = TimeSeriesPreprocessor(\n",
    "    **column_specifiers,\n",
    "    context_length=CONTEXT_LENGTH,\n",
    "    prediction_length=PREDICTION_LENGTH,\n",
    "    scaling=True,\n",
    "    encode_categorical=False,\n",
    "    scaler_type=\"standard\",\n",
    ")"
   ]
  },
  {
   "cell_type": "markdown",
   "id": "c263fc17-e365-44e4-a213-fb7a5dbf07fc",
   "metadata": {},
   "source": [
    "## Getting the pre-trained TSPulse Model"
   ]
  },
  {
   "cell_type": "code",
   "execution_count": 10,
   "id": "a8729b78",
   "metadata": {},
   "outputs": [],
   "source": [
    "model = TSPulseForReconstruction.from_pretrained(\n",
    "    \"ibm-granite/granite-timeseries-tspulse-r1\",\n",
    "    revision=\"tspulse-hybrid-dualhead-512-p8-r1\",\n",
    "    num_input_channels=tsp.num_input_channels,\n",
    "    mask_type=\"user\",\n",
    ")\n",
    "\n",
    "device = \"cuda\" if torch.cuda.is_available() else \"mps\" if torch.mps.is_available() else \"cpu\""
   ]
  },
  {
   "cell_type": "markdown",
   "id": "42105485-2778-43c9-ac28-daba1c858bc0",
   "metadata": {},
   "source": [
    "## Using Imputation Pipeline for Zero-Shot Imputation"
   ]
  },
  {
   "cell_type": "code",
   "execution_count": 11,
   "id": "342a5ea0",
   "metadata": {},
   "outputs": [
    {
     "name": "stderr",
     "output_type": "stream",
     "text": [
      "Device set to use cuda\n"
     ]
    }
   ],
   "source": [
    "tsp.train(data)  # train the tsp\n",
    "pipe = TimeSeriesImputationPipeline(model, feature_extractor=tsp, batch_size=1000, device=device)"
   ]
  },
  {
   "cell_type": "code",
   "execution_count": 12,
   "id": "fc67a37b-68d7-488a-a0b3-c69a3e841d89",
   "metadata": {},
   "outputs": [],
   "source": [
    "out = pipe(data)"
   ]
  },
  {
   "cell_type": "code",
   "execution_count": 13,
   "id": "0b066c9b",
   "metadata": {},
   "outputs": [
    {
     "data": {
      "text/plain": [
       "(512, 15)"
      ]
     },
     "execution_count": 13,
     "metadata": {},
     "output_type": "execute_result"
    }
   ],
   "source": [
    "out.shape"
   ]
  },
  {
   "cell_type": "code",
   "execution_count": 14,
   "id": "b694a7a7-22c5-4ee5-ba8e-6e4b8bf39f3d",
   "metadata": {},
   "outputs": [
    {
     "data": {
      "text/html": [
       "<div>\n",
       "<style scoped>\n",
       "    .dataframe tbody tr th:only-of-type {\n",
       "        vertical-align: middle;\n",
       "    }\n",
       "\n",
       "    .dataframe tbody tr th {\n",
       "        vertical-align: top;\n",
       "    }\n",
       "\n",
       "    .dataframe thead th {\n",
       "        text-align: right;\n",
       "    }\n",
       "</style>\n",
       "<table border=\"1\" class=\"dataframe\">\n",
       "  <thead>\n",
       "    <tr style=\"text-align: right;\">\n",
       "      <th></th>\n",
       "      <th>date</th>\n",
       "      <th>HUFL</th>\n",
       "      <th>HULL</th>\n",
       "      <th>MUFL</th>\n",
       "      <th>MULL</th>\n",
       "      <th>LUFL</th>\n",
       "      <th>LULL</th>\n",
       "      <th>OT</th>\n",
       "      <th>HUFL_imputed</th>\n",
       "      <th>HULL_imputed</th>\n",
       "      <th>MUFL_imputed</th>\n",
       "      <th>MULL_imputed</th>\n",
       "      <th>LUFL_imputed</th>\n",
       "      <th>LULL_imputed</th>\n",
       "      <th>OT_imputed</th>\n",
       "    </tr>\n",
       "  </thead>\n",
       "  <tbody>\n",
       "    <tr>\n",
       "      <th>0</th>\n",
       "      <td>2016-07-01 00:00:00</td>\n",
       "      <td>5.827</td>\n",
       "      <td>2.009</td>\n",
       "      <td>1.599</td>\n",
       "      <td>0.462</td>\n",
       "      <td>4.203</td>\n",
       "      <td>1.340</td>\n",
       "      <td>30.531000</td>\n",
       "      <td>5.827</td>\n",
       "      <td>2.009</td>\n",
       "      <td>1.599</td>\n",
       "      <td>0.462</td>\n",
       "      <td>4.203</td>\n",
       "      <td>1.340</td>\n",
       "      <td>30.531000</td>\n",
       "    </tr>\n",
       "    <tr>\n",
       "      <th>1</th>\n",
       "      <td>2016-07-01 01:00:00</td>\n",
       "      <td>5.693</td>\n",
       "      <td>2.076</td>\n",
       "      <td>1.492</td>\n",
       "      <td>0.426</td>\n",
       "      <td>4.142</td>\n",
       "      <td>1.371</td>\n",
       "      <td>27.787001</td>\n",
       "      <td>5.693</td>\n",
       "      <td>2.076</td>\n",
       "      <td>1.492</td>\n",
       "      <td>0.426</td>\n",
       "      <td>4.142</td>\n",
       "      <td>1.371</td>\n",
       "      <td>27.787001</td>\n",
       "    </tr>\n",
       "    <tr>\n",
       "      <th>2</th>\n",
       "      <td>2016-07-01 02:00:00</td>\n",
       "      <td>5.157</td>\n",
       "      <td>1.741</td>\n",
       "      <td>1.279</td>\n",
       "      <td>0.355</td>\n",
       "      <td>3.777</td>\n",
       "      <td>1.218</td>\n",
       "      <td>27.787001</td>\n",
       "      <td>5.157</td>\n",
       "      <td>1.741</td>\n",
       "      <td>1.279</td>\n",
       "      <td>0.355</td>\n",
       "      <td>3.777</td>\n",
       "      <td>1.218</td>\n",
       "      <td>27.787001</td>\n",
       "    </tr>\n",
       "    <tr>\n",
       "      <th>3</th>\n",
       "      <td>2016-07-01 03:00:00</td>\n",
       "      <td>5.090</td>\n",
       "      <td>1.942</td>\n",
       "      <td>1.279</td>\n",
       "      <td>0.391</td>\n",
       "      <td>3.807</td>\n",
       "      <td>1.279</td>\n",
       "      <td>25.044001</td>\n",
       "      <td>5.090</td>\n",
       "      <td>1.942</td>\n",
       "      <td>1.279</td>\n",
       "      <td>0.391</td>\n",
       "      <td>3.807</td>\n",
       "      <td>1.279</td>\n",
       "      <td>25.044001</td>\n",
       "    </tr>\n",
       "    <tr>\n",
       "      <th>4</th>\n",
       "      <td>2016-07-01 04:00:00</td>\n",
       "      <td>5.358</td>\n",
       "      <td>1.942</td>\n",
       "      <td>1.492</td>\n",
       "      <td>0.462</td>\n",
       "      <td>3.868</td>\n",
       "      <td>1.279</td>\n",
       "      <td>21.948000</td>\n",
       "      <td>5.358</td>\n",
       "      <td>1.942</td>\n",
       "      <td>1.492</td>\n",
       "      <td>0.462</td>\n",
       "      <td>3.868</td>\n",
       "      <td>1.279</td>\n",
       "      <td>21.948000</td>\n",
       "    </tr>\n",
       "  </tbody>\n",
       "</table>\n",
       "</div>"
      ],
      "text/plain": [
       "                 date   HUFL   HULL   MUFL   MULL   LUFL   LULL         OT  \\\n",
       "0 2016-07-01 00:00:00  5.827  2.009  1.599  0.462  4.203  1.340  30.531000   \n",
       "1 2016-07-01 01:00:00  5.693  2.076  1.492  0.426  4.142  1.371  27.787001   \n",
       "2 2016-07-01 02:00:00  5.157  1.741  1.279  0.355  3.777  1.218  27.787001   \n",
       "3 2016-07-01 03:00:00  5.090  1.942  1.279  0.391  3.807  1.279  25.044001   \n",
       "4 2016-07-01 04:00:00  5.358  1.942  1.492  0.462  3.868  1.279  21.948000   \n",
       "\n",
       "   HUFL_imputed  HULL_imputed  MUFL_imputed  MULL_imputed  LUFL_imputed  \\\n",
       "0         5.827         2.009         1.599         0.462         4.203   \n",
       "1         5.693         2.076         1.492         0.426         4.142   \n",
       "2         5.157         1.741         1.279         0.355         3.777   \n",
       "3         5.090         1.942         1.279         0.391         3.807   \n",
       "4         5.358         1.942         1.492         0.462         3.868   \n",
       "\n",
       "   LULL_imputed  OT_imputed  \n",
       "0         1.340   30.531000  \n",
       "1         1.371   27.787001  \n",
       "2         1.218   27.787001  \n",
       "3         1.279   25.044001  \n",
       "4         1.279   21.948000  "
      ]
     },
     "execution_count": 14,
     "metadata": {},
     "output_type": "execute_result"
    }
   ],
   "source": [
    "out.head()"
   ]
  },
  {
   "cell_type": "markdown",
   "id": "fdc45461-fc1e-4f65-9e4f-c6537fab018e",
   "metadata": {},
   "source": [
    "## Plotting the Observed and Imputed values"
   ]
  },
  {
   "cell_type": "code",
   "execution_count": 15,
   "id": "18c683f3-30be-4e08-b70f-900fbe42fa5d",
   "metadata": {},
   "outputs": [],
   "source": [
    "def plot_interactive_imputation(df, fully_observed_ground_truth=None, window_size=512):\n",
    "    df = df.drop(\"date\", axis=1)\n",
    "    observed_cols = [col.removesuffix(\"_imputed\") for col in df.columns if col.endswith(\"_imputed\")]\n",
    "\n",
    "    num_points = len(df)\n",
    "\n",
    "    def plot_window(start_idx):\n",
    "        end_idx = min(start_idx + window_size, num_points)\n",
    "        x_range = np.arange(start_idx, end_idx, dtype=float)\n",
    "\n",
    "        plt.figure(figsize=(15, 3 * len(observed_cols)))\n",
    "\n",
    "        for i, base_col in enumerate(observed_cols):\n",
    "            imputed_col = f\"{base_col}_imputed\"\n",
    "            observed_vals = df[base_col].iloc[start_idx:end_idx]\n",
    "            imputed_vals = df[imputed_col].iloc[start_idx:end_idx]\n",
    "\n",
    "            pos_observed = ~observed_vals.isna()\n",
    "            pos_imputed = observed_vals.isna()\n",
    "            plt.subplot(len(observed_cols), 1, i + 1)\n",
    "\n",
    "            plt.plot(x_range[pos_imputed], imputed_vals[pos_imputed], color=\"red\",linewidth=2, label=\"Imputed\")\n",
    "\n",
    "            if fully_observed_ground_truth is not None:\n",
    "                full_vals = fully_observed_ground_truth[base_col].iloc[start_idx:end_idx]\n",
    "                plt.plot(x_range, full_vals, color=\"blue\", linewidth=2, label=\"Ground_Truth\")  # actual ground truth\n",
    "                y_min = np.min(full_vals)\n",
    "                y_mask = np.full(np.sum(pos_imputed), y_min)\n",
    "                plt.plot(\n",
    "                    x_range[pos_imputed], y_mask, color=\"green\", linewidth=2, label=\"mask\"\n",
    "                )  # positions where model has imputed the missing values.\n",
    "            else:\n",
    "                plt.plot(\n",
    "                    x_range[pos_observed], observed_vals[pos_observed], color=\"blue\", linewidth=2, label=\"Observed\"\n",
    "                )  # Plot the data with missing values with \"linear interpolation\" in the plot at missing positions.\n",
    "                y_min = np.min(observed_vals)\n",
    "                y_mask = np.full(np.sum(pos_imputed), y_min)\n",
    "                plt.plot(\n",
    "                    x_range[pos_imputed], y_mask, color=\"green\", linewidth=2, label=\"mask\"\n",
    "                )  # positions where model has imputed the missing values.\n",
    "\n",
    "            plt.title(f\"Channel: {base_col}\")\n",
    "            plt.legend()\n",
    "            plt.grid(True)\n",
    "            \n",
    "\n",
    "        plt.tight_layout()\n",
    "        plt.show()\n",
    "\n",
    "    print(\"Plotting static plot for first window\")\n",
    "    plot_window(0)  # plotting the first window as static plot\n",
    "\n",
    "    # interact(\n",
    "    #     plot_window,\n",
    "    #     start_idx=IntSlider(\n",
    "    #         value=0,\n",
    "    #         min=0,\n",
    "    #         max=max(0, num_points - window_size),\n",
    "    #         step=1,\n",
    "    #         description=\"Start Index\",\n",
    "    #         continuous_update=False,\n",
    "    #     ),\n",
    "    # )"
   ]
  },
  {
   "cell_type": "code",
   "execution_count": 16,
   "id": "ec0cdf9a-13d1-4cd7-9c8e-8619ed1d6af9",
   "metadata": {},
   "outputs": [],
   "source": [
    "# plot_interactive_imputation(out, fully_observed_ground_truth)"
   ]
  },
  {
   "cell_type": "code",
   "execution_count": 17,
   "id": "0f42f6c1-e7fd-4c1d-8d2c-8aea490783bd",
   "metadata": {},
   "outputs": [],
   "source": [
    "import numpy as np\n",
    "import pandas as pd\n",
    "import matplotlib.pyplot as plt\n",
    "import os\n",
    "\n",
    "def plot_interactive_imputation(df, fully_observed_ground_truth=None, window_size=512, plot_index=0, save_dir=\"imputation_plots\"):\n",
    "    # Create save directory if it doesn't exist\n",
    "    os.makedirs(save_dir, exist_ok=True)\n",
    "\n",
    "    df = df.drop(\"date\", axis=1)\n",
    "    observed_cols = [col.removesuffix(\"_imputed\") for col in df.columns if col.endswith(\"_imputed\")]\n",
    "\n",
    "    num_points = len(df)\n",
    "\n",
    "    def plot_window(start_idx):\n",
    "        end_idx = min(start_idx + window_size, num_points)\n",
    "        x_range = np.arange(start_idx, end_idx, dtype=float)\n",
    "\n",
    "        plt.figure(figsize=(15, 3 * len(observed_cols)))\n",
    "\n",
    "        for i, base_col in enumerate(observed_cols):\n",
    "            imputed_col = f\"{base_col}_imputed\"\n",
    "            observed_vals = df[base_col].iloc[start_idx:end_idx]\n",
    "            imputed_vals = df[imputed_col].iloc[start_idx:end_idx]\n",
    "\n",
    "            pos_observed = ~observed_vals.isna()\n",
    "            pos_imputed = observed_vals.isna()\n",
    "\n",
    "            plt.subplot(len(observed_cols), 1, i + 1)\n",
    "            plt.plot(x_range[pos_imputed], imputed_vals[pos_imputed], color=\"red\", linewidth=2, label=\"Imputed\")\n",
    "\n",
    "            if fully_observed_ground_truth is not None:\n",
    "                full_vals = fully_observed_ground_truth[base_col].iloc[start_idx:end_idx]\n",
    "                plt.plot(x_range, full_vals, color=\"blue\", linewidth=2, label=\"Ground_Truth\")\n",
    "                y_min = np.min(full_vals)\n",
    "                y_mask = np.full(np.sum(pos_imputed), y_min)\n",
    "                plt.plot(x_range[pos_imputed], y_mask, color=\"green\", linewidth=2, label=\"Mask\")\n",
    "            else:\n",
    "                plt.plot(x_range[pos_observed], observed_vals[pos_observed], color=\"blue\", linewidth=2, label=\"Observed\")\n",
    "                y_min = np.min(observed_vals)\n",
    "                y_mask = np.full(np.sum(pos_imputed), y_min)\n",
    "                plt.plot(x_range[pos_imputed], y_mask, color=\"green\", linewidth=2, label=\"Mask\")\n",
    "\n",
    "            plt.title(f\"Channel: {base_col}\")\n",
    "            plt.legend()\n",
    "            plt.grid(True)\n",
    "\n",
    "        plt.tight_layout()\n",
    "        plot_filename = os.path.join(save_dir, f\"imputation_plot_{plot_index}.pdf\")\n",
    "        plt.savefig(plot_filename)\n",
    "        plt.close()\n",
    "        print(f\"Saved plot to: {plot_filename}\")\n",
    "\n",
    "    print(f\"Saving static plot for window 0 as plot index {plot_index}\")\n",
    "    plot_window(0)\n"
   ]
  },
  {
   "cell_type": "code",
   "execution_count": null,
   "id": "a4172e8d-7c2b-49b9-b627-dcfcf2e8b72e",
   "metadata": {},
   "outputs": [],
   "source": []
  },
  {
   "cell_type": "code",
   "execution_count": 18,
   "id": "690d03d8-dbf6-412e-9cc2-eab19dd79168",
   "metadata": {},
   "outputs": [
    {
     "name": "stderr",
     "output_type": "stream",
     "text": [
      "Device set to use cuda\n"
     ]
    },
    {
     "name": "stdout",
     "output_type": "stream",
     "text": [
      "Saving static plot for window 0 as plot index 654\n"
     ]
    },
    {
     "name": "stderr",
     "output_type": "stream",
     "text": [
      "Device set to use cuda\n"
     ]
    },
    {
     "name": "stdout",
     "output_type": "stream",
     "text": [
      "Saved plot to: imputation_plots/imputation_plot_654.pdf\n",
      "Saving static plot for window 0 as plot index 114\n"
     ]
    },
    {
     "name": "stderr",
     "output_type": "stream",
     "text": [
      "Device set to use cuda\n"
     ]
    },
    {
     "name": "stdout",
     "output_type": "stream",
     "text": [
      "Saved plot to: imputation_plots/imputation_plot_114.pdf\n",
      "Saving static plot for window 0 as plot index 25\n"
     ]
    },
    {
     "name": "stderr",
     "output_type": "stream",
     "text": [
      "Device set to use cuda\n"
     ]
    },
    {
     "name": "stdout",
     "output_type": "stream",
     "text": [
      "Saved plot to: imputation_plots/imputation_plot_25.pdf\n",
      "Saving static plot for window 0 as plot index 759\n"
     ]
    },
    {
     "name": "stderr",
     "output_type": "stream",
     "text": [
      "Device set to use cuda\n"
     ]
    },
    {
     "name": "stdout",
     "output_type": "stream",
     "text": [
      "Saved plot to: imputation_plots/imputation_plot_759.pdf\n",
      "Saving static plot for window 0 as plot index 281\n"
     ]
    },
    {
     "name": "stderr",
     "output_type": "stream",
     "text": [
      "Device set to use cuda\n"
     ]
    },
    {
     "name": "stdout",
     "output_type": "stream",
     "text": [
      "Saved plot to: imputation_plots/imputation_plot_281.pdf\n",
      "Saving static plot for window 0 as plot index 250\n"
     ]
    },
    {
     "name": "stderr",
     "output_type": "stream",
     "text": [
      "Device set to use cuda\n"
     ]
    },
    {
     "name": "stdout",
     "output_type": "stream",
     "text": [
      "Saved plot to: imputation_plots/imputation_plot_250.pdf\n",
      "Saving static plot for window 0 as plot index 228\n"
     ]
    },
    {
     "name": "stderr",
     "output_type": "stream",
     "text": [
      "Device set to use cuda\n"
     ]
    },
    {
     "name": "stdout",
     "output_type": "stream",
     "text": [
      "Saved plot to: imputation_plots/imputation_plot_228.pdf\n",
      "Saving static plot for window 0 as plot index 142\n"
     ]
    },
    {
     "name": "stderr",
     "output_type": "stream",
     "text": [
      "Device set to use cuda\n"
     ]
    },
    {
     "name": "stdout",
     "output_type": "stream",
     "text": [
      "Saved plot to: imputation_plots/imputation_plot_142.pdf\n",
      "Saving static plot for window 0 as plot index 754\n"
     ]
    },
    {
     "name": "stderr",
     "output_type": "stream",
     "text": [
      "Device set to use cuda\n"
     ]
    },
    {
     "name": "stdout",
     "output_type": "stream",
     "text": [
      "Saved plot to: imputation_plots/imputation_plot_754.pdf\n",
      "Saving static plot for window 0 as plot index 104\n"
     ]
    },
    {
     "name": "stderr",
     "output_type": "stream",
     "text": [
      "Device set to use cuda\n"
     ]
    },
    {
     "name": "stdout",
     "output_type": "stream",
     "text": [
      "Saved plot to: imputation_plots/imputation_plot_104.pdf\n",
      "Saving static plot for window 0 as plot index 692\n"
     ]
    },
    {
     "name": "stderr",
     "output_type": "stream",
     "text": [
      "Device set to use cuda\n"
     ]
    },
    {
     "name": "stdout",
     "output_type": "stream",
     "text": [
      "Saved plot to: imputation_plots/imputation_plot_692.pdf\n",
      "Saving static plot for window 0 as plot index 758\n"
     ]
    },
    {
     "name": "stderr",
     "output_type": "stream",
     "text": [
      "Device set to use cuda\n"
     ]
    },
    {
     "name": "stdout",
     "output_type": "stream",
     "text": [
      "Saved plot to: imputation_plots/imputation_plot_758.pdf\n",
      "Saving static plot for window 0 as plot index 913\n"
     ]
    },
    {
     "name": "stderr",
     "output_type": "stream",
     "text": [
      "Device set to use cuda\n"
     ]
    },
    {
     "name": "stdout",
     "output_type": "stream",
     "text": [
      "Saved plot to: imputation_plots/imputation_plot_913.pdf\n",
      "Saving static plot for window 0 as plot index 558\n"
     ]
    },
    {
     "name": "stderr",
     "output_type": "stream",
     "text": [
      "Device set to use cuda\n"
     ]
    },
    {
     "name": "stdout",
     "output_type": "stream",
     "text": [
      "Saved plot to: imputation_plots/imputation_plot_558.pdf\n",
      "Saving static plot for window 0 as plot index 89\n"
     ]
    },
    {
     "name": "stderr",
     "output_type": "stream",
     "text": [
      "Device set to use cuda\n"
     ]
    },
    {
     "name": "stdout",
     "output_type": "stream",
     "text": [
      "Saved plot to: imputation_plots/imputation_plot_89.pdf\n",
      "Saving static plot for window 0 as plot index 604\n"
     ]
    },
    {
     "name": "stderr",
     "output_type": "stream",
     "text": [
      "Device set to use cuda\n"
     ]
    },
    {
     "name": "stdout",
     "output_type": "stream",
     "text": [
      "Saved plot to: imputation_plots/imputation_plot_604.pdf\n",
      "Saving static plot for window 0 as plot index 432\n"
     ]
    },
    {
     "name": "stderr",
     "output_type": "stream",
     "text": [
      "Device set to use cuda\n"
     ]
    },
    {
     "name": "stdout",
     "output_type": "stream",
     "text": [
      "Saved plot to: imputation_plots/imputation_plot_432.pdf\n",
      "Saving static plot for window 0 as plot index 32\n"
     ]
    },
    {
     "name": "stderr",
     "output_type": "stream",
     "text": [
      "Device set to use cuda\n"
     ]
    },
    {
     "name": "stdout",
     "output_type": "stream",
     "text": [
      "Saved plot to: imputation_plots/imputation_plot_32.pdf\n",
      "Saving static plot for window 0 as plot index 30\n"
     ]
    },
    {
     "name": "stderr",
     "output_type": "stream",
     "text": [
      "Device set to use cuda\n"
     ]
    },
    {
     "name": "stdout",
     "output_type": "stream",
     "text": [
      "Saved plot to: imputation_plots/imputation_plot_30.pdf\n",
      "Saving static plot for window 0 as plot index 95\n",
      "Saved plot to: imputation_plots/imputation_plot_95.pdf\n"
     ]
    }
   ],
   "source": [
    "import random\n",
    "for i in range(20):\n",
    "    r = random.randint(0, 1000)\n",
    "    actual_data = fully_observed_ground_truth.iloc[r:r+512, :]\n",
    "    temp_data = mask_last_context(actual_data, forecast_length=FORECAST_LEN)\n",
    "    tsp.train(temp_data)\n",
    "    pipe = TimeSeriesImputationPipeline(model, feature_extractor=tsp, batch_size=1000, device=device)\n",
    "    out = pipe(temp_data)\n",
    "    plot_interactive_imputation(out, actual_data, plot_index=r)"
   ]
  },
  {
   "cell_type": "code",
   "execution_count": null,
   "id": "3a7ffddd-d608-41ca-92b5-6caa3a687f48",
   "metadata": {},
   "outputs": [],
   "source": []
  },
  {
   "cell_type": "markdown",
   "id": "9fbdf99a-fc86-4871-9a29-741dc03e2f91",
   "metadata": {},
   "source": [
    "## Evaluate the Model\n",
    "\n",
    "Evaluate the zero-shot performance of the model on the dataset."
   ]
  },
  {
   "cell_type": "code",
   "execution_count": 15,
   "id": "d37a9e9d-9eef-4f3d-8c37-2b80421b4ab4",
   "metadata": {},
   "outputs": [],
   "source": [
    "def custom_metric(actual, missing_df, prediction, column_header=\"results\"):\n",
    "    \"\"\"Simple function to compute MSE\"\"\"\n",
    "    a = actual.to_numpy(dtype=float)\n",
    "    p = prediction.to_numpy(dtype=float)\n",
    "\n",
    "    missing_positions = np.isnan(missing_df)\n",
    "\n",
    "    mse = np.mean(np.square(a[missing_positions] - p[missing_positions]))\n",
    "    mae = np.mean(np.abs(a[missing_positions] - p[missing_positions]))\n",
    "    return pd.DataFrame(\n",
    "        {\n",
    "            column_header: {\n",
    "                \"mean_squared_error\": mse,\n",
    "                \"root_mean_squared_error\": np.sqrt(mse),\n",
    "                \"mean_absolute_error\": mae,\n",
    "            }\n",
    "        }\n",
    "    )"
   ]
  },
  {
   "cell_type": "code",
   "execution_count": 16,
   "id": "ebc6a559-ca09-402b-b30a-10d3a1b5df58",
   "metadata": {},
   "outputs": [
    {
     "data": {
      "text/html": [
       "<div>\n",
       "<style scoped>\n",
       "    .dataframe tbody tr th:only-of-type {\n",
       "        vertical-align: middle;\n",
       "    }\n",
       "\n",
       "    .dataframe tbody tr th {\n",
       "        vertical-align: top;\n",
       "    }\n",
       "\n",
       "    .dataframe thead th {\n",
       "        text-align: right;\n",
       "    }\n",
       "</style>\n",
       "<table border=\"1\" class=\"dataframe\">\n",
       "  <thead>\n",
       "    <tr style=\"text-align: right;\">\n",
       "      <th></th>\n",
       "      <th>zero-shot imputation</th>\n",
       "    </tr>\n",
       "  </thead>\n",
       "  <tbody>\n",
       "    <tr>\n",
       "      <th>mean_squared_error</th>\n",
       "      <td>1.670301</td>\n",
       "    </tr>\n",
       "    <tr>\n",
       "      <th>root_mean_squared_error</th>\n",
       "      <td>1.292401</td>\n",
       "    </tr>\n",
       "    <tr>\n",
       "      <th>mean_absolute_error</th>\n",
       "      <td>0.681345</td>\n",
       "    </tr>\n",
       "  </tbody>\n",
       "</table>\n",
       "</div>"
      ],
      "text/plain": [
       "                         zero-shot imputation\n",
       "mean_squared_error                   1.670301\n",
       "root_mean_squared_error              1.292401\n",
       "mean_absolute_error                  0.681345"
      ]
     },
     "execution_count": 16,
     "metadata": {},
     "output_type": "execute_result"
    }
   ],
   "source": [
    "ground_truth = fully_observed_ground_truth[target_columns]  # original df having no missing values\n",
    "ground_truth_with_missing_data = out[target_columns]  # df having missing values\n",
    "\n",
    "imputed_columns = [f\"{col}_imputed\" for col in target_columns]\n",
    "imputed_df = out[imputed_columns]  # df having imputed values at the missing data positions\n",
    "\n",
    "custom_metric(ground_truth, ground_truth_with_missing_data, imputed_df, \"zero-shot imputation\")"
   ]
  },
  {
   "cell_type": "code",
   "execution_count": null,
   "id": "9a89f670-5238-42dd-8308-483699b9d48a",
   "metadata": {},
   "outputs": [],
   "source": []
  }
 ],
 "metadata": {
  "kernelspec": {
   "display_name": "Python 3 (ipykernel)",
   "language": "python",
   "name": "python3"
  },
  "language_info": {
   "codemirror_mode": {
    "name": "ipython",
    "version": 3
   },
   "file_extension": ".py",
   "mimetype": "text/x-python",
   "name": "python",
   "nbconvert_exporter": "python",
   "pygments_lexer": "ipython3",
   "version": "3.11.12"
  }
 },
 "nbformat": 4,
 "nbformat_minor": 5
}
